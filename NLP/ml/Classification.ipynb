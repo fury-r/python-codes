{
  "nbformat": 4,
  "nbformat_minor": 0,
  "metadata": {
    "colab": {
      "provenance": []
    },
    "kernelspec": {
      "name": "python3",
      "display_name": "Python 3"
    },
    "language_info": {
      "name": "python"
    }
  },
  "cells": [
    {
      "cell_type": "code",
      "execution_count": null,
      "metadata": {
        "id": "7V2oUM7tmlvH"
      },
      "outputs": [],
      "source": [
        "!pip install -q sklearn\n",
        "%tensorflow_version 2.x\n",
        "\n",
        "import numpy as np\n",
        "import pandas as pd\n",
        "import matplotlib.pyplot as plt\n",
        "from IPython.display import clear_output\n",
        "import tensorflow.compat.v2.feature_column as fc\n",
        "import tensorflow as tf"
      ]
    },
    {
      "cell_type": "code",
      "source": [
        "\n",
        "column_names=['SepalLength','SepalWidth','PetalLength','PetalWidth','Species']\n",
        "species=['Setosa','Versicolor','Virginca']\n",
        "train=pd.read_csv(\"https://storage.googleapis.com/download.tensorflow.org/data/iris_training.csv\",names=column_names,header=0)\n",
        "test=pd.read_csv(\"https://storage.googleapis.com/download.tensorflow.org/data/iris_test.csv\",names=column_names,header=0)\n"
      ],
      "metadata": {
        "colab": {
          "base_uri": "https://localhost:8080/"
        },
        "id": "iHepszNcs0JY",
        "outputId": "99094213-8021-4973-f11a-57a35b384870"
      },
      "execution_count": null,
      "outputs": [
        {
          "output_type": "execute_result",
          "data": {
            "text/plain": [
              "(120, 5)"
            ]
          },
          "metadata": {},
          "execution_count": 15
        }
      ]
    },
    {
      "cell_type": "code",
      "source": [
        "train.head()"
      ],
      "metadata": {
        "colab": {
          "base_uri": "https://localhost:8080/",
          "height": 206
        },
        "id": "Adi0zeC2tcwe",
        "outputId": "c447de66-401a-49af-fd43-df71c1f0b285"
      },
      "execution_count": null,
      "outputs": [
        {
          "output_type": "execute_result",
          "data": {
            "text/plain": [
              "   SepalLength  SepalWidth  PetalLength  PetalWidth  Species\n",
              "0          6.4         2.8          5.6         2.2        2\n",
              "1          5.0         2.3          3.3         1.0        1\n",
              "2          4.9         2.5          4.5         1.7        2\n",
              "3          4.9         3.1          1.5         0.1        0\n",
              "4          5.7         3.8          1.7         0.3        0"
            ],
            "text/html": [
              "\n",
              "  <div id=\"df-7a7a159b-8e67-4f46-9b52-90b1755bc55e\">\n",
              "    <div class=\"colab-df-container\">\n",
              "      <div>\n",
              "<style scoped>\n",
              "    .dataframe tbody tr th:only-of-type {\n",
              "        vertical-align: middle;\n",
              "    }\n",
              "\n",
              "    .dataframe tbody tr th {\n",
              "        vertical-align: top;\n",
              "    }\n",
              "\n",
              "    .dataframe thead th {\n",
              "        text-align: right;\n",
              "    }\n",
              "</style>\n",
              "<table border=\"1\" class=\"dataframe\">\n",
              "  <thead>\n",
              "    <tr style=\"text-align: right;\">\n",
              "      <th></th>\n",
              "      <th>SepalLength</th>\n",
              "      <th>SepalWidth</th>\n",
              "      <th>PetalLength</th>\n",
              "      <th>PetalWidth</th>\n",
              "      <th>Species</th>\n",
              "    </tr>\n",
              "  </thead>\n",
              "  <tbody>\n",
              "    <tr>\n",
              "      <th>0</th>\n",
              "      <td>6.4</td>\n",
              "      <td>2.8</td>\n",
              "      <td>5.6</td>\n",
              "      <td>2.2</td>\n",
              "      <td>2</td>\n",
              "    </tr>\n",
              "    <tr>\n",
              "      <th>1</th>\n",
              "      <td>5.0</td>\n",
              "      <td>2.3</td>\n",
              "      <td>3.3</td>\n",
              "      <td>1.0</td>\n",
              "      <td>1</td>\n",
              "    </tr>\n",
              "    <tr>\n",
              "      <th>2</th>\n",
              "      <td>4.9</td>\n",
              "      <td>2.5</td>\n",
              "      <td>4.5</td>\n",
              "      <td>1.7</td>\n",
              "      <td>2</td>\n",
              "    </tr>\n",
              "    <tr>\n",
              "      <th>3</th>\n",
              "      <td>4.9</td>\n",
              "      <td>3.1</td>\n",
              "      <td>1.5</td>\n",
              "      <td>0.1</td>\n",
              "      <td>0</td>\n",
              "    </tr>\n",
              "    <tr>\n",
              "      <th>4</th>\n",
              "      <td>5.7</td>\n",
              "      <td>3.8</td>\n",
              "      <td>1.7</td>\n",
              "      <td>0.3</td>\n",
              "      <td>0</td>\n",
              "    </tr>\n",
              "  </tbody>\n",
              "</table>\n",
              "</div>\n",
              "      <button class=\"colab-df-convert\" onclick=\"convertToInteractive('df-7a7a159b-8e67-4f46-9b52-90b1755bc55e')\"\n",
              "              title=\"Convert this dataframe to an interactive table.\"\n",
              "              style=\"display:none;\">\n",
              "        \n",
              "  <svg xmlns=\"http://www.w3.org/2000/svg\" height=\"24px\"viewBox=\"0 0 24 24\"\n",
              "       width=\"24px\">\n",
              "    <path d=\"M0 0h24v24H0V0z\" fill=\"none\"/>\n",
              "    <path d=\"M18.56 5.44l.94 2.06.94-2.06 2.06-.94-2.06-.94-.94-2.06-.94 2.06-2.06.94zm-11 1L8.5 8.5l.94-2.06 2.06-.94-2.06-.94L8.5 2.5l-.94 2.06-2.06.94zm10 10l.94 2.06.94-2.06 2.06-.94-2.06-.94-.94-2.06-.94 2.06-2.06.94z\"/><path d=\"M17.41 7.96l-1.37-1.37c-.4-.4-.92-.59-1.43-.59-.52 0-1.04.2-1.43.59L10.3 9.45l-7.72 7.72c-.78.78-.78 2.05 0 2.83L4 21.41c.39.39.9.59 1.41.59.51 0 1.02-.2 1.41-.59l7.78-7.78 2.81-2.81c.8-.78.8-2.07 0-2.86zM5.41 20L4 18.59l7.72-7.72 1.47 1.35L5.41 20z\"/>\n",
              "  </svg>\n",
              "      </button>\n",
              "      \n",
              "  <style>\n",
              "    .colab-df-container {\n",
              "      display:flex;\n",
              "      flex-wrap:wrap;\n",
              "      gap: 12px;\n",
              "    }\n",
              "\n",
              "    .colab-df-convert {\n",
              "      background-color: #E8F0FE;\n",
              "      border: none;\n",
              "      border-radius: 50%;\n",
              "      cursor: pointer;\n",
              "      display: none;\n",
              "      fill: #1967D2;\n",
              "      height: 32px;\n",
              "      padding: 0 0 0 0;\n",
              "      width: 32px;\n",
              "    }\n",
              "\n",
              "    .colab-df-convert:hover {\n",
              "      background-color: #E2EBFA;\n",
              "      box-shadow: 0px 1px 2px rgba(60, 64, 67, 0.3), 0px 1px 3px 1px rgba(60, 64, 67, 0.15);\n",
              "      fill: #174EA6;\n",
              "    }\n",
              "\n",
              "    [theme=dark] .colab-df-convert {\n",
              "      background-color: #3B4455;\n",
              "      fill: #D2E3FC;\n",
              "    }\n",
              "\n",
              "    [theme=dark] .colab-df-convert:hover {\n",
              "      background-color: #434B5C;\n",
              "      box-shadow: 0px 1px 3px 1px rgba(0, 0, 0, 0.15);\n",
              "      filter: drop-shadow(0px 1px 2px rgba(0, 0, 0, 0.3));\n",
              "      fill: #FFFFFF;\n",
              "    }\n",
              "  </style>\n",
              "\n",
              "      <script>\n",
              "        const buttonEl =\n",
              "          document.querySelector('#df-7a7a159b-8e67-4f46-9b52-90b1755bc55e button.colab-df-convert');\n",
              "        buttonEl.style.display =\n",
              "          google.colab.kernel.accessAllowed ? 'block' : 'none';\n",
              "\n",
              "        async function convertToInteractive(key) {\n",
              "          const element = document.querySelector('#df-7a7a159b-8e67-4f46-9b52-90b1755bc55e');\n",
              "          const dataTable =\n",
              "            await google.colab.kernel.invokeFunction('convertToInteractive',\n",
              "                                                     [key], {});\n",
              "          if (!dataTable) return;\n",
              "\n",
              "          const docLinkHtml = 'Like what you see? Visit the ' +\n",
              "            '<a target=\"_blank\" href=https://colab.research.google.com/notebooks/data_table.ipynb>data table notebook</a>'\n",
              "            + ' to learn more about interactive tables.';\n",
              "          element.innerHTML = '';\n",
              "          dataTable['output_type'] = 'display_data';\n",
              "          await google.colab.output.renderOutput(dataTable, element);\n",
              "          const docLink = document.createElement('div');\n",
              "          docLink.innerHTML = docLinkHtml;\n",
              "          element.appendChild(docLink);\n",
              "        }\n",
              "      </script>\n",
              "    </div>\n",
              "  </div>\n",
              "  "
            ]
          },
          "metadata": {},
          "execution_count": 16
        }
      ]
    },
    {
      "cell_type": "code",
      "source": [
        "train_y=train.pop(\"Species\")\n",
        "test_y=test.pop(\"Species\")"
      ],
      "metadata": {
        "id": "8biQLJ1IuXoH"
      },
      "execution_count": null,
      "outputs": []
    },
    {
      "cell_type": "code",
      "source": [
        "train_y.head()"
      ],
      "metadata": {
        "colab": {
          "base_uri": "https://localhost:8080/"
        },
        "id": "4knTxZbGuuth",
        "outputId": "6b28fe22-6310-47b1-b76a-557dcaa9e8d2"
      },
      "execution_count": null,
      "outputs": [
        {
          "output_type": "execute_result",
          "data": {
            "text/plain": [
              "0    2\n",
              "1    1\n",
              "2    2\n",
              "3    0\n",
              "4    0\n",
              "Name: Species, dtype: int64"
            ]
          },
          "metadata": {},
          "execution_count": 18
        }
      ]
    },
    {
      "cell_type": "code",
      "source": [
        "train.shape"
      ],
      "metadata": {
        "colab": {
          "base_uri": "https://localhost:8080/"
        },
        "id": "0enSk9g5u7kK",
        "outputId": "e9c6486b-7293-4e9f-88c5-bc59a3ff63a5"
      },
      "execution_count": null,
      "outputs": [
        {
          "output_type": "execute_result",
          "data": {
            "text/plain": [
              "(120, 4)"
            ]
          },
          "metadata": {},
          "execution_count": 19
        }
      ]
    },
    {
      "cell_type": "code",
      "source": [
        "#input function\n",
        "\n",
        "def make_input_fn(features,labels,training=True,batch_size=32):\n",
        "  dataset=tf.data.Dataset.from_tensor_slices((dict(features),labels))\n",
        "  if training:\n",
        "    dataset=dataset.shuffle(1000).repeat()\n",
        "  return dataset.batch(batch_size)"
      ],
      "metadata": {
        "id": "Ppip__LQu_g8"
      },
      "execution_count": null,
      "outputs": []
    },
    {
      "cell_type": "code",
      "source": [
        "\n",
        "feature_columns=[tf.feature_column.numeric_column(key=key) for key in train.keys()]\n",
        "print(feature_columns)"
      ],
      "metadata": {
        "colab": {
          "base_uri": "https://localhost:8080/"
        },
        "id": "R4SJB-QIvbq5",
        "outputId": "1a72a41e-6c41-44ca-830a-40a7ae1b09eb"
      },
      "execution_count": null,
      "outputs": [
        {
          "output_type": "stream",
          "name": "stdout",
          "text": [
            "[NumericColumn(key='SepalLength', shape=(1,), default_value=None, dtype=tf.float32, normalizer_fn=None), NumericColumn(key='SepalWidth', shape=(1,), default_value=None, dtype=tf.float32, normalizer_fn=None), NumericColumn(key='PetalLength', shape=(1,), default_value=None, dtype=tf.float32, normalizer_fn=None), NumericColumn(key='PetalWidth', shape=(1,), default_value=None, dtype=tf.float32, normalizer_fn=None)]\n"
          ]
        }
      ]
    },
    {
      "cell_type": "code",
      "source": [
        "classifier=tf.estimator.DNNClassifier(feature_columns=feature_columns,\n",
        "                                      hidden_units=[30,10],  #[hidden layer nodes,visible layer nodes]\n",
        "                                      n_classes=3\n",
        "                                      )"
      ],
      "metadata": {
        "colab": {
          "base_uri": "https://localhost:8080/"
        },
        "id": "j6QlNOzvzDut",
        "outputId": "6c0dcffc-7391-4894-d5ee-a5b9dbf35c5e"
      },
      "execution_count": null,
      "outputs": [
        {
          "output_type": "stream",
          "name": "stdout",
          "text": [
            "INFO:tensorflow:Using default config.\n",
            "WARNING:tensorflow:Using temporary folder as model directory: /tmp/tmpuokpijxs\n",
            "INFO:tensorflow:Using config: {'_model_dir': '/tmp/tmpuokpijxs', '_tf_random_seed': None, '_save_summary_steps': 100, '_save_checkpoints_steps': None, '_save_checkpoints_secs': 600, '_session_config': allow_soft_placement: true\n",
            "graph_options {\n",
            "  rewrite_options {\n",
            "    meta_optimizer_iterations: ONE\n",
            "  }\n",
            "}\n",
            ", '_keep_checkpoint_max': 5, '_keep_checkpoint_every_n_hours': 10000, '_log_step_count_steps': 100, '_train_distribute': None, '_device_fn': None, '_protocol': None, '_eval_distribute': None, '_experimental_distribute': None, '_experimental_max_worker_delay_secs': None, '_session_creation_timeout_secs': 7200, '_checkpoint_save_graph_def': True, '_service': None, '_cluster_spec': ClusterSpec({}), '_task_type': 'worker', '_task_id': 0, '_global_id_in_cluster': 0, '_master': '', '_evaluation_master': '', '_is_chief': True, '_num_ps_replicas': 0, '_num_worker_replicas': 1}\n"
          ]
        }
      ]
    },
    {
      "cell_type": "code",
      "source": [
        "result=classifier.train(input_fn=lambda:make_input_fn(train,train_y,training=True),steps=5000)"
      ],
      "metadata": {
        "colab": {
          "base_uri": "https://localhost:8080/"
        },
        "id": "fZAu_cSozlZc",
        "outputId": "290989ac-3a8a-4e18-aece-6f52e70145a4"
      },
      "execution_count": null,
      "outputs": [
        {
          "output_type": "stream",
          "name": "stdout",
          "text": [
            "INFO:tensorflow:Calling model_fn.\n",
            "INFO:tensorflow:Done calling model_fn.\n",
            "INFO:tensorflow:Create CheckpointSaverHook.\n",
            "INFO:tensorflow:Graph was finalized.\n",
            "INFO:tensorflow:Restoring parameters from /tmp/tmpuokpijxs/model.ckpt-10000\n",
            "INFO:tensorflow:Running local_init_op.\n",
            "INFO:tensorflow:Done running local_init_op.\n",
            "INFO:tensorflow:Calling checkpoint listeners before saving checkpoint 10000...\n",
            "INFO:tensorflow:Saving checkpoints for 10000 into /tmp/tmpuokpijxs/model.ckpt.\n",
            "INFO:tensorflow:Calling checkpoint listeners after saving checkpoint 10000...\n",
            "INFO:tensorflow:loss = 0.37836644, step = 10000\n",
            "INFO:tensorflow:global_step/sec: 588.152\n",
            "INFO:tensorflow:loss = 0.4882283, step = 10100 (0.173 sec)\n",
            "INFO:tensorflow:global_step/sec: 872.445\n",
            "INFO:tensorflow:loss = 0.41778052, step = 10200 (0.117 sec)\n",
            "INFO:tensorflow:global_step/sec: 816.273\n",
            "INFO:tensorflow:loss = 0.4662251, step = 10300 (0.122 sec)\n",
            "INFO:tensorflow:global_step/sec: 812.211\n",
            "INFO:tensorflow:loss = 0.3983071, step = 10400 (0.123 sec)\n",
            "INFO:tensorflow:global_step/sec: 815.368\n",
            "INFO:tensorflow:loss = 0.41813388, step = 10500 (0.123 sec)\n",
            "INFO:tensorflow:global_step/sec: 801.978\n",
            "INFO:tensorflow:loss = 0.44898206, step = 10600 (0.126 sec)\n",
            "INFO:tensorflow:global_step/sec: 920.623\n",
            "INFO:tensorflow:loss = 0.52377534, step = 10700 (0.109 sec)\n",
            "INFO:tensorflow:global_step/sec: 816.255\n",
            "INFO:tensorflow:loss = 0.45618454, step = 10800 (0.119 sec)\n",
            "INFO:tensorflow:global_step/sec: 861.754\n",
            "INFO:tensorflow:loss = 0.36456972, step = 10900 (0.120 sec)\n",
            "INFO:tensorflow:global_step/sec: 899.16\n",
            "INFO:tensorflow:loss = 0.40481105, step = 11000 (0.111 sec)\n",
            "INFO:tensorflow:global_step/sec: 879.372\n",
            "INFO:tensorflow:loss = 0.41298097, step = 11100 (0.115 sec)\n",
            "INFO:tensorflow:global_step/sec: 834.682\n",
            "INFO:tensorflow:loss = 0.40654594, step = 11200 (0.114 sec)\n",
            "INFO:tensorflow:global_step/sec: 903.75\n",
            "INFO:tensorflow:loss = 0.38177082, step = 11300 (0.111 sec)\n",
            "INFO:tensorflow:global_step/sec: 794.603\n",
            "INFO:tensorflow:loss = 0.44940782, step = 11400 (0.126 sec)\n",
            "INFO:tensorflow:global_step/sec: 879.534\n",
            "INFO:tensorflow:loss = 0.48227024, step = 11500 (0.113 sec)\n",
            "INFO:tensorflow:global_step/sec: 772.453\n",
            "INFO:tensorflow:loss = 0.37329996, step = 11600 (0.133 sec)\n",
            "INFO:tensorflow:global_step/sec: 801.572\n",
            "INFO:tensorflow:loss = 0.40223658, step = 11700 (0.122 sec)\n",
            "INFO:tensorflow:global_step/sec: 913.555\n",
            "INFO:tensorflow:loss = 0.3560958, step = 11800 (0.109 sec)\n",
            "INFO:tensorflow:global_step/sec: 921.859\n",
            "INFO:tensorflow:loss = 0.36754102, step = 11900 (0.111 sec)\n",
            "INFO:tensorflow:global_step/sec: 902.661\n",
            "INFO:tensorflow:loss = 0.4266569, step = 12000 (0.108 sec)\n",
            "INFO:tensorflow:global_step/sec: 911.132\n",
            "INFO:tensorflow:loss = 0.38094428, step = 12100 (0.112 sec)\n",
            "INFO:tensorflow:global_step/sec: 869.538\n",
            "INFO:tensorflow:loss = 0.38555616, step = 12200 (0.113 sec)\n",
            "INFO:tensorflow:global_step/sec: 814.132\n",
            "INFO:tensorflow:loss = 0.38779885, step = 12300 (0.123 sec)\n",
            "INFO:tensorflow:global_step/sec: 890.664\n",
            "INFO:tensorflow:loss = 0.38869417, step = 12400 (0.112 sec)\n",
            "INFO:tensorflow:global_step/sec: 883.039\n",
            "INFO:tensorflow:loss = 0.36507714, step = 12500 (0.114 sec)\n",
            "INFO:tensorflow:global_step/sec: 898.042\n",
            "INFO:tensorflow:loss = 0.36865017, step = 12600 (0.111 sec)\n",
            "INFO:tensorflow:global_step/sec: 805.223\n",
            "INFO:tensorflow:loss = 0.45716697, step = 12700 (0.124 sec)\n",
            "INFO:tensorflow:global_step/sec: 919.989\n",
            "INFO:tensorflow:loss = 0.4078712, step = 12800 (0.112 sec)\n",
            "INFO:tensorflow:global_step/sec: 872.296\n",
            "INFO:tensorflow:loss = 0.34210455, step = 12900 (0.112 sec)\n",
            "INFO:tensorflow:global_step/sec: 841.385\n",
            "INFO:tensorflow:loss = 0.38335705, step = 13000 (0.118 sec)\n",
            "INFO:tensorflow:global_step/sec: 887.351\n",
            "INFO:tensorflow:loss = 0.36901352, step = 13100 (0.116 sec)\n",
            "INFO:tensorflow:global_step/sec: 819.688\n",
            "INFO:tensorflow:loss = 0.43905872, step = 13200 (0.119 sec)\n",
            "INFO:tensorflow:global_step/sec: 940.642\n",
            "INFO:tensorflow:loss = 0.3975846, step = 13300 (0.106 sec)\n",
            "INFO:tensorflow:global_step/sec: 795.349\n",
            "INFO:tensorflow:loss = 0.42786664, step = 13400 (0.126 sec)\n",
            "INFO:tensorflow:global_step/sec: 883.575\n",
            "INFO:tensorflow:loss = 0.39589405, step = 13500 (0.113 sec)\n",
            "INFO:tensorflow:global_step/sec: 920.334\n",
            "INFO:tensorflow:loss = 0.42042848, step = 13600 (0.109 sec)\n",
            "INFO:tensorflow:global_step/sec: 908.849\n",
            "INFO:tensorflow:loss = 0.42575067, step = 13700 (0.110 sec)\n",
            "INFO:tensorflow:global_step/sec: 906.073\n",
            "INFO:tensorflow:loss = 0.3160646, step = 13800 (0.110 sec)\n",
            "INFO:tensorflow:global_step/sec: 918.919\n",
            "INFO:tensorflow:loss = 0.41484642, step = 13900 (0.109 sec)\n",
            "INFO:tensorflow:global_step/sec: 915.395\n",
            "INFO:tensorflow:loss = 0.31528765, step = 14000 (0.112 sec)\n",
            "INFO:tensorflow:global_step/sec: 823.142\n",
            "INFO:tensorflow:loss = 0.28195167, step = 14100 (0.121 sec)\n",
            "INFO:tensorflow:global_step/sec: 922.665\n",
            "INFO:tensorflow:loss = 0.39184618, step = 14200 (0.110 sec)\n",
            "INFO:tensorflow:global_step/sec: 872.31\n",
            "INFO:tensorflow:loss = 0.36820012, step = 14300 (0.112 sec)\n",
            "INFO:tensorflow:global_step/sec: 897.11\n",
            "INFO:tensorflow:loss = 0.34181368, step = 14400 (0.111 sec)\n",
            "INFO:tensorflow:global_step/sec: 868.657\n",
            "INFO:tensorflow:loss = 0.28630462, step = 14500 (0.115 sec)\n",
            "INFO:tensorflow:global_step/sec: 887.999\n",
            "INFO:tensorflow:loss = 0.24985428, step = 14600 (0.112 sec)\n",
            "INFO:tensorflow:global_step/sec: 867.517\n",
            "INFO:tensorflow:loss = 0.37111843, step = 14700 (0.116 sec)\n",
            "INFO:tensorflow:global_step/sec: 856.521\n",
            "INFO:tensorflow:loss = 0.35670575, step = 14800 (0.117 sec)\n",
            "INFO:tensorflow:global_step/sec: 900.964\n",
            "INFO:tensorflow:loss = 0.34972715, step = 14900 (0.111 sec)\n",
            "INFO:tensorflow:Calling checkpoint listeners before saving checkpoint 15000...\n",
            "INFO:tensorflow:Saving checkpoints for 15000 into /tmp/tmpuokpijxs/model.ckpt.\n",
            "INFO:tensorflow:Calling checkpoint listeners after saving checkpoint 15000...\n",
            "INFO:tensorflow:Loss for final step: 0.3720749.\n"
          ]
        }
      ]
    },
    {
      "cell_type": "code",
      "source": [
        "result=classifier.evaluate(input_fn=lambda:make_input_fn(test,test_y,training=False))"
      ],
      "metadata": {
        "colab": {
          "base_uri": "https://localhost:8080/"
        },
        "id": "GkA5LPOa0fYD",
        "outputId": "c6ff7d63-8026-4df0-de00-d73c23579557"
      },
      "execution_count": null,
      "outputs": [
        {
          "output_type": "stream",
          "name": "stdout",
          "text": [
            "INFO:tensorflow:Calling model_fn.\n",
            "INFO:tensorflow:Done calling model_fn.\n",
            "INFO:tensorflow:Starting evaluation at 2022-07-15T12:26:54\n",
            "INFO:tensorflow:Graph was finalized.\n",
            "INFO:tensorflow:Restoring parameters from /tmp/tmpuokpijxs/model.ckpt-15000\n",
            "INFO:tensorflow:Running local_init_op.\n",
            "INFO:tensorflow:Done running local_init_op.\n",
            "INFO:tensorflow:Inference Time : 0.49362s\n",
            "INFO:tensorflow:Finished evaluation at 2022-07-15-12:26:55\n",
            "INFO:tensorflow:Saving dict for global step 15000: accuracy = 0.93333334, average_loss = 0.43879274, global_step = 15000, loss = 0.43879274\n",
            "INFO:tensorflow:Saving 'checkpoint_path' summary for global step 15000: /tmp/tmpuokpijxs/model.ckpt-15000\n"
          ]
        }
      ]
    },
    {
      "cell_type": "code",
      "source": [
        "print(f\"accuracy: {result['accuracy']}\")"
      ],
      "metadata": {
        "colab": {
          "base_uri": "https://localhost:8080/"
        },
        "id": "23NgTBsP04wj",
        "outputId": "72b390cb-aa9c-4c8b-8749-57f3878259a9"
      },
      "execution_count": null,
      "outputs": [
        {
          "output_type": "stream",
          "name": "stdout",
          "text": [
            "accuracy: 0.9333333373069763\n"
          ]
        }
      ]
    },
    {
      "cell_type": "code",
      "source": [
        "def test_fn(features,batch_size=256):\n",
        "  return tf.data.Dataset.from_tensor_slices((dict(features))).batch(batch_size)\n",
        "features=['SepalLength','SepalWidth','PetalLength','PetalWidth']\n",
        "species=['Setosa','Versicolor','Virginca']\n"
      ],
      "metadata": {
        "id": "YnCvGqwqC8hR"
      },
      "execution_count": null,
      "outputs": []
    },
    {
      "cell_type": "code",
      "source": [
        "\n",
        "predict={}\n",
        "for f in features:\n",
        "  valid=True\n",
        "  while valid:\n",
        "    val=input(f+\": \")\n",
        "    if not val.isdigit():valid=False\n",
        "  predict[f]=[float(val)]\n",
        "\n",
        "predictions=classifier.predict(input_fn=lambda:test_fn(predict))\n",
        "for pred in predictions:\n",
        "  class_id=pred['class_ids'][0]\n",
        "  probability=pred['probabilities'][class_id]\n",
        "\n",
        "  print(f'Prediction is {species[class_id]}  accuracy {100*probability}')"
      ],
      "metadata": {
        "colab": {
          "base_uri": "https://localhost:8080/",
          "height": 586
        },
        "id": "lBGzr0Io1NZX",
        "outputId": "c4ec3431-1191-46db-e441-08f0271e1e93"
      },
      "execution_count": null,
      "outputs": [
        {
          "output_type": "error",
          "ename": "KeyboardInterrupt",
          "evalue": "ignored",
          "traceback": [
            "\u001b[0;31m---------------------------------------------------------------------------\u001b[0m",
            "\u001b[0;31mKeyboardInterrupt\u001b[0m                         Traceback (most recent call last)",
            "\u001b[0;32m/usr/local/lib/python3.7/dist-packages/ipykernel/kernelbase.py\u001b[0m in \u001b[0;36m_input_request\u001b[0;34m(self, prompt, ident, parent, password)\u001b[0m\n\u001b[1;32m    728\u001b[0m             \u001b[0;32mtry\u001b[0m\u001b[0;34m:\u001b[0m\u001b[0;34m\u001b[0m\u001b[0;34m\u001b[0m\u001b[0m\n\u001b[0;32m--> 729\u001b[0;31m                 \u001b[0mident\u001b[0m\u001b[0;34m,\u001b[0m \u001b[0mreply\u001b[0m \u001b[0;34m=\u001b[0m \u001b[0mself\u001b[0m\u001b[0;34m.\u001b[0m\u001b[0msession\u001b[0m\u001b[0;34m.\u001b[0m\u001b[0mrecv\u001b[0m\u001b[0;34m(\u001b[0m\u001b[0mself\u001b[0m\u001b[0;34m.\u001b[0m\u001b[0mstdin_socket\u001b[0m\u001b[0;34m,\u001b[0m \u001b[0;36m0\u001b[0m\u001b[0;34m)\u001b[0m\u001b[0;34m\u001b[0m\u001b[0;34m\u001b[0m\u001b[0m\n\u001b[0m\u001b[1;32m    730\u001b[0m             \u001b[0;32mexcept\u001b[0m \u001b[0mException\u001b[0m\u001b[0;34m:\u001b[0m\u001b[0;34m\u001b[0m\u001b[0;34m\u001b[0m\u001b[0m\n",
            "\u001b[0;32m/usr/local/lib/python3.7/dist-packages/jupyter_client/session.py\u001b[0m in \u001b[0;36mrecv\u001b[0;34m(self, socket, mode, content, copy)\u001b[0m\n\u001b[1;32m    802\u001b[0m         \u001b[0;32mtry\u001b[0m\u001b[0;34m:\u001b[0m\u001b[0;34m\u001b[0m\u001b[0;34m\u001b[0m\u001b[0m\n\u001b[0;32m--> 803\u001b[0;31m             \u001b[0mmsg_list\u001b[0m \u001b[0;34m=\u001b[0m \u001b[0msocket\u001b[0m\u001b[0;34m.\u001b[0m\u001b[0mrecv_multipart\u001b[0m\u001b[0;34m(\u001b[0m\u001b[0mmode\u001b[0m\u001b[0;34m,\u001b[0m \u001b[0mcopy\u001b[0m\u001b[0;34m=\u001b[0m\u001b[0mcopy\u001b[0m\u001b[0;34m)\u001b[0m\u001b[0;34m\u001b[0m\u001b[0;34m\u001b[0m\u001b[0m\n\u001b[0m\u001b[1;32m    804\u001b[0m         \u001b[0;32mexcept\u001b[0m \u001b[0mzmq\u001b[0m\u001b[0;34m.\u001b[0m\u001b[0mZMQError\u001b[0m \u001b[0;32mas\u001b[0m \u001b[0me\u001b[0m\u001b[0;34m:\u001b[0m\u001b[0;34m\u001b[0m\u001b[0;34m\u001b[0m\u001b[0m\n",
            "\u001b[0;32m/usr/local/lib/python3.7/dist-packages/zmq/sugar/socket.py\u001b[0m in \u001b[0;36mrecv_multipart\u001b[0;34m(self, flags, copy, track)\u001b[0m\n\u001b[1;32m    726\u001b[0m         \"\"\"\n\u001b[0;32m--> 727\u001b[0;31m         \u001b[0mparts\u001b[0m \u001b[0;34m=\u001b[0m \u001b[0;34m[\u001b[0m\u001b[0mself\u001b[0m\u001b[0;34m.\u001b[0m\u001b[0mrecv\u001b[0m\u001b[0;34m(\u001b[0m\u001b[0mflags\u001b[0m\u001b[0;34m,\u001b[0m \u001b[0mcopy\u001b[0m\u001b[0;34m=\u001b[0m\u001b[0mcopy\u001b[0m\u001b[0;34m,\u001b[0m \u001b[0mtrack\u001b[0m\u001b[0;34m=\u001b[0m\u001b[0mtrack\u001b[0m\u001b[0;34m)\u001b[0m\u001b[0;34m]\u001b[0m\u001b[0;34m\u001b[0m\u001b[0;34m\u001b[0m\u001b[0m\n\u001b[0m\u001b[1;32m    728\u001b[0m         \u001b[0;31m# have first part already, only loop while more to receive\u001b[0m\u001b[0;34m\u001b[0m\u001b[0;34m\u001b[0m\u001b[0;34m\u001b[0m\u001b[0m\n",
            "\u001b[0;32mzmq/backend/cython/socket.pyx\u001b[0m in \u001b[0;36mzmq.backend.cython.socket.Socket.recv\u001b[0;34m()\u001b[0m\n",
            "\u001b[0;32mzmq/backend/cython/socket.pyx\u001b[0m in \u001b[0;36mzmq.backend.cython.socket.Socket.recv\u001b[0;34m()\u001b[0m\n",
            "\u001b[0;32mzmq/backend/cython/socket.pyx\u001b[0m in \u001b[0;36mzmq.backend.cython.socket._recv_copy\u001b[0;34m()\u001b[0m\n",
            "\u001b[0;32m/usr/local/lib/python3.7/dist-packages/zmq/backend/cython/checkrc.pxd\u001b[0m in \u001b[0;36mzmq.backend.cython.checkrc._check_rc\u001b[0;34m()\u001b[0m\n",
            "\u001b[0;31mKeyboardInterrupt\u001b[0m: ",
            "\nDuring handling of the above exception, another exception occurred:\n",
            "\u001b[0;31mKeyboardInterrupt\u001b[0m                         Traceback (most recent call last)",
            "\u001b[0;32m<ipython-input-55-55b99739c7e8>\u001b[0m in \u001b[0;36m<module>\u001b[0;34m()\u001b[0m\n\u001b[1;32m      8\u001b[0m   \u001b[0mvalid\u001b[0m\u001b[0;34m=\u001b[0m\u001b[0;32mTrue\u001b[0m\u001b[0;34m\u001b[0m\u001b[0;34m\u001b[0m\u001b[0m\n\u001b[1;32m      9\u001b[0m   \u001b[0;32mwhile\u001b[0m \u001b[0mvalid\u001b[0m\u001b[0;34m:\u001b[0m\u001b[0;34m\u001b[0m\u001b[0;34m\u001b[0m\u001b[0m\n\u001b[0;32m---> 10\u001b[0;31m     \u001b[0mval\u001b[0m\u001b[0;34m=\u001b[0m\u001b[0minput\u001b[0m\u001b[0;34m(\u001b[0m\u001b[0mf\u001b[0m\u001b[0;34m+\u001b[0m\u001b[0;34m\": \"\u001b[0m\u001b[0;34m)\u001b[0m\u001b[0;34m\u001b[0m\u001b[0;34m\u001b[0m\u001b[0m\n\u001b[0m\u001b[1;32m     11\u001b[0m     \u001b[0;32mif\u001b[0m \u001b[0;32mnot\u001b[0m \u001b[0mval\u001b[0m\u001b[0;34m.\u001b[0m\u001b[0misdigit\u001b[0m\u001b[0;34m(\u001b[0m\u001b[0;34m)\u001b[0m\u001b[0;34m:\u001b[0m\u001b[0mvalid\u001b[0m\u001b[0;34m=\u001b[0m\u001b[0;32mFalse\u001b[0m\u001b[0;34m\u001b[0m\u001b[0;34m\u001b[0m\u001b[0m\n\u001b[1;32m     12\u001b[0m   \u001b[0mpredict\u001b[0m\u001b[0;34m[\u001b[0m\u001b[0mf\u001b[0m\u001b[0;34m]\u001b[0m\u001b[0;34m=\u001b[0m\u001b[0;34m[\u001b[0m\u001b[0mfloat\u001b[0m\u001b[0;34m(\u001b[0m\u001b[0mval\u001b[0m\u001b[0;34m)\u001b[0m\u001b[0;34m]\u001b[0m\u001b[0;34m\u001b[0m\u001b[0;34m\u001b[0m\u001b[0m\n",
            "\u001b[0;32m/usr/local/lib/python3.7/dist-packages/ipykernel/kernelbase.py\u001b[0m in \u001b[0;36mraw_input\u001b[0;34m(self, prompt)\u001b[0m\n\u001b[1;32m    702\u001b[0m             \u001b[0mself\u001b[0m\u001b[0;34m.\u001b[0m\u001b[0m_parent_ident\u001b[0m\u001b[0;34m,\u001b[0m\u001b[0;34m\u001b[0m\u001b[0;34m\u001b[0m\u001b[0m\n\u001b[1;32m    703\u001b[0m             \u001b[0mself\u001b[0m\u001b[0;34m.\u001b[0m\u001b[0m_parent_header\u001b[0m\u001b[0;34m,\u001b[0m\u001b[0;34m\u001b[0m\u001b[0;34m\u001b[0m\u001b[0m\n\u001b[0;32m--> 704\u001b[0;31m             \u001b[0mpassword\u001b[0m\u001b[0;34m=\u001b[0m\u001b[0;32mFalse\u001b[0m\u001b[0;34m,\u001b[0m\u001b[0;34m\u001b[0m\u001b[0;34m\u001b[0m\u001b[0m\n\u001b[0m\u001b[1;32m    705\u001b[0m         )\n\u001b[1;32m    706\u001b[0m \u001b[0;34m\u001b[0m\u001b[0m\n",
            "\u001b[0;32m/usr/local/lib/python3.7/dist-packages/ipykernel/kernelbase.py\u001b[0m in \u001b[0;36m_input_request\u001b[0;34m(self, prompt, ident, parent, password)\u001b[0m\n\u001b[1;32m    732\u001b[0m             \u001b[0;32mexcept\u001b[0m \u001b[0mKeyboardInterrupt\u001b[0m\u001b[0;34m:\u001b[0m\u001b[0;34m\u001b[0m\u001b[0;34m\u001b[0m\u001b[0m\n\u001b[1;32m    733\u001b[0m                 \u001b[0;31m# re-raise KeyboardInterrupt, to truncate traceback\u001b[0m\u001b[0;34m\u001b[0m\u001b[0;34m\u001b[0m\u001b[0;34m\u001b[0m\u001b[0m\n\u001b[0;32m--> 734\u001b[0;31m                 \u001b[0;32mraise\u001b[0m \u001b[0mKeyboardInterrupt\u001b[0m\u001b[0;34m\u001b[0m\u001b[0;34m\u001b[0m\u001b[0m\n\u001b[0m\u001b[1;32m    735\u001b[0m             \u001b[0;32melse\u001b[0m\u001b[0;34m:\u001b[0m\u001b[0;34m\u001b[0m\u001b[0;34m\u001b[0m\u001b[0m\n\u001b[1;32m    736\u001b[0m                 \u001b[0;32mbreak\u001b[0m\u001b[0;34m\u001b[0m\u001b[0;34m\u001b[0m\u001b[0m\n",
            "\u001b[0;31mKeyboardInterrupt\u001b[0m: "
          ]
        }
      ]
    },
    {
      "cell_type": "code",
      "source": [
        "expected=['Setosa','Versicolor','Virginca']\n",
        "\n",
        "predict_x={\n",
        "    'SepalLength':[5.1,5.9,6.9],'SepalWidth':[3.3,3.0,3.1],'PetalLength':[1.7,4.2,5.4],'PetalWidth':[0.5,1.5,2.1]\n",
        "}\n",
        "\n",
        "for f in range(len(expected)):\n",
        "  predict={}\n",
        "  for k,v in predict_x.items():\n",
        "    predict[k]=[v[f]]\n",
        "  print(predict)\n",
        "  predictions=classifier.predict(input_fn=lambda:test_fn(predict))\n",
        "  for pred in predictions:\n",
        "    class_id=pred['class_ids'][0]\n",
        "    probability=pred['probabilities'][class_id]\n",
        "\n",
        "    print(f'Prediction is {species[class_id]}  accuracy {100*probability}  {species[class_id]==expected[f]}')"
      ],
      "metadata": {
        "colab": {
          "base_uri": "https://localhost:8080/"
        },
        "id": "fipf8PaH-7jl",
        "outputId": "8ca2b28c-6baf-4bcd-e0a1-7b603e2645e3"
      },
      "execution_count": null,
      "outputs": [
        {
          "output_type": "stream",
          "name": "stdout",
          "text": [
            "{'SepalLength': [5.1], 'SepalWidth': [3.3], 'PetalLength': [1.7], 'PetalWidth': [0.5]}\n",
            "INFO:tensorflow:Calling model_fn.\n",
            "INFO:tensorflow:Done calling model_fn.\n",
            "INFO:tensorflow:Graph was finalized.\n",
            "INFO:tensorflow:Restoring parameters from /tmp/tmpuokpijxs/model.ckpt-15000\n",
            "INFO:tensorflow:Running local_init_op.\n",
            "INFO:tensorflow:Done running local_init_op.\n",
            "Prediction is Setosa  accuracy 88.14080357551575  True\n",
            "{'SepalLength': [5.9], 'SepalWidth': [3.0], 'PetalLength': [4.2], 'PetalWidth': [1.5]}\n",
            "INFO:tensorflow:Calling model_fn.\n",
            "INFO:tensorflow:Done calling model_fn.\n",
            "INFO:tensorflow:Graph was finalized.\n",
            "INFO:tensorflow:Restoring parameters from /tmp/tmpuokpijxs/model.ckpt-15000\n",
            "INFO:tensorflow:Running local_init_op.\n",
            "INFO:tensorflow:Done running local_init_op.\n",
            "Prediction is Versicolor  accuracy 51.404935121536255  True\n",
            "{'SepalLength': [6.9], 'SepalWidth': [3.1], 'PetalLength': [5.4], 'PetalWidth': [2.1]}\n",
            "INFO:tensorflow:Calling model_fn.\n",
            "INFO:tensorflow:Done calling model_fn.\n",
            "INFO:tensorflow:Graph was finalized.\n",
            "INFO:tensorflow:Restoring parameters from /tmp/tmpuokpijxs/model.ckpt-15000\n",
            "INFO:tensorflow:Running local_init_op.\n",
            "INFO:tensorflow:Done running local_init_op.\n",
            "Prediction is Virginca  accuracy 64.32905793190002  True\n"
          ]
        }
      ]
    }
  ]
}
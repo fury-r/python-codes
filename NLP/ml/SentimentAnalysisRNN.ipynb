{
  "cells": [
    {
      "cell_type": "code",
      "execution_count": null,
      "metadata": {
        "id": "Bgws4Mjig4u9"
      },
      "outputs": [],
      "source": [
        "%tensorflow_version 2.x\n",
        "import tensorflow as tf\n",
        "from tensorflow import keras\n",
        "#from tensorflow.keras import datasets,layers,models\n",
        "\n",
        "import numpy as np\n",
        "from keras.datasets import imdb\n",
        "from keras.preprocessing import sequence\n",
        "import matplotlib.pyplot as plt"
      ]
    },
    {
      "cell_type": "code",
      "execution_count": null,
      "metadata": {
        "colab": {
          "base_uri": "https://localhost:8080/"
        },
        "id": "KUkKE9OL8q8C",
        "outputId": "e7c25600-f023-4b0d-fbd9-d2d337f51675"
      },
      "outputs": [
        {
          "name": "stdout",
          "output_type": "stream",
          "text": [
            "Downloading data from https://storage.googleapis.com/tensorflow/tf-keras-datasets/imdb.npz\n",
            "17465344/17464789 [==============================] - 0s 0us/step\n",
            "17473536/17464789 [==============================] - 0s 0us/step\n"
          ]
        }
      ],
      "source": [
        "vocab_size=88584\n",
        "maxlen=250\n",
        "match_size=64\n",
        "(train_data,train_labels),(test_data,test_labels)=imdb.load_data(num_words=vocab_size)"
      ]
    },
    {
      "cell_type": "code",
      "execution_count": null,
      "metadata": {
        "colab": {
          "base_uri": "https://localhost:8080/"
        },
        "id": "8c2OvPl-9CXN",
        "outputId": "789d7a26-6eee-4191-e7f9-b7f0c5956f99"
      },
      "outputs": [
        {
          "data": {
            "text/plain": [
              "[1, 14, 22, 16, 43]"
            ]
          },
          "execution_count": 4,
          "metadata": {},
          "output_type": "execute_result"
        }
      ],
      "source": [
        "train_data[0][0:5]"
      ]
    },
    {
      "cell_type": "code",
      "execution_count": null,
      "metadata": {
        "id": "8Lx5HmIT9NDi"
      },
      "outputs": [],
      "source": [
        "#preprocessing\n",
        "\n",
        "train_data=sequence.pad_sequences(train_data,maxlen)\n",
        "test_data=sequence.pad_sequences(test_data,maxlen)"
      ]
    },
    {
      "cell_type": "code",
      "execution_count": null,
      "metadata": {
        "colab": {
          "base_uri": "https://localhost:8080/"
        },
        "id": "_YXQ1ij09gSg",
        "outputId": "6607dd04-bb1e-4663-cf2f-86ea7c61b528"
      },
      "outputs": [
        {
          "data": {
            "text/plain": [
              "(250, 250)"
            ]
          },
          "execution_count": 6,
          "metadata": {},
          "output_type": "execute_result"
        }
      ],
      "source": [
        "len(train_data[0]),len(train_data[1])"
      ]
    },
    {
      "cell_type": "code",
      "execution_count": null,
      "metadata": {
        "id": "MS5ygvR89nCr"
      },
      "outputs": [],
      "source": [
        "model=keras.Sequential([\n",
        "         keras.layers.Embedding(vocab_size,32),\n",
        "         keras.layers.LSTM(32),\n",
        "         keras.layers.Dense(1,activation='sigmoid')\n",
        "])"
      ]
    },
    {
      "cell_type": "code",
      "execution_count": null,
      "metadata": {
        "colab": {
          "base_uri": "https://localhost:8080/"
        },
        "id": "yomsv4499-De",
        "outputId": "6c3e54a7-3130-46ca-910d-119cd500a1a4"
      },
      "outputs": [
        {
          "name": "stdout",
          "output_type": "stream",
          "text": [
            "Model: \"sequential\"\n",
            "_________________________________________________________________\n",
            " Layer (type)                Output Shape              Param #   \n",
            "=================================================================\n",
            " embedding (Embedding)       (None, None, 32)          2834688   \n",
            "                                                                 \n",
            " lstm (LSTM)                 (None, 32)                8320      \n",
            "                                                                 \n",
            " dense (Dense)               (None, 1)                 33        \n",
            "                                                                 \n",
            "=================================================================\n",
            "Total params: 2,843,041\n",
            "Trainable params: 2,843,041\n",
            "Non-trainable params: 0\n",
            "_________________________________________________________________\n"
          ]
        }
      ],
      "source": [
        "model.summary()"
      ]
    },
    {
      "cell_type": "code",
      "execution_count": null,
      "metadata": {
        "id": "rAtpYvgP-EO8"
      },
      "outputs": [],
      "source": [
        "model.compile(loss='binary_crossentropy',optimizer='rmsprop',metrics=['acc'])\n"
      ]
    },
    {
      "cell_type": "code",
      "execution_count": null,
      "metadata": {
        "colab": {
          "background_save": true,
          "base_uri": "https://localhost:8080/"
        },
        "id": "qOUu4lak-uEC",
        "outputId": "18eeb2b3-5596-4329-dc7a-d44f6ac580f6"
      },
      "outputs": [
        {
          "name": "stdout",
          "output_type": "stream",
          "text": [
            "Epoch 1/10\n",
            "625/625 [==============================] - 63s 98ms/step - loss: 0.4208 - acc: 0.8061 - val_loss: 0.3300 - val_acc: 0.8674\n",
            "Epoch 2/10\n",
            "625/625 [==============================] - 60s 96ms/step - loss: 0.2428 - acc: 0.9079 - val_loss: 0.3079 - val_acc: 0.8770\n",
            "Epoch 3/10\n",
            "625/625 [==============================] - 60s 95ms/step - loss: 0.1929 - acc: 0.9309 - val_loss: 0.2682 - val_acc: 0.8918\n",
            "Epoch 4/10\n",
            "625/625 [==============================] - 60s 97ms/step - loss: 0.1555 - acc: 0.9443 - val_loss: 0.2708 - val_acc: 0.8906\n",
            "Epoch 5/10\n",
            "625/625 [==============================] - 60s 96ms/step - loss: 0.1314 - acc: 0.9538 - val_loss: 0.3084 - val_acc: 0.8910\n",
            "Epoch 6/10\n",
            "625/625 [==============================] - 60s 96ms/step - loss: 0.1147 - acc: 0.9596 - val_loss: 0.3660 - val_acc: 0.8860\n",
            "Epoch 7/10\n",
            "625/625 [==============================] - 59s 95ms/step - loss: 0.1011 - acc: 0.9660 - val_loss: 0.3236 - val_acc: 0.8872\n",
            "Epoch 8/10\n",
            "625/625 [==============================] - 60s 96ms/step - loss: 0.0862 - acc: 0.9720 - val_loss: 0.3591 - val_acc: 0.8868\n",
            "Epoch 9/10\n",
            "625/625 [==============================] - 60s 97ms/step - loss: 0.0791 - acc: 0.9748 - val_loss: 0.3862 - val_acc: 0.8818\n",
            "Epoch 10/10\n",
            "625/625 [==============================] - 59s 95ms/step - loss: 0.0715 - acc: 0.9762 - val_loss: 0.3547 - val_acc: 0.8892\n"
          ]
        }
      ],
      "source": [
        "history=model.fit(train_data,train_labels,epochs=10,validation_split=0.2)"
      ]
    },
    {
      "cell_type": "code",
      "execution_count": null,
      "metadata": {
        "colab": {
          "base_uri": "https://localhost:8080/"
        },
        "id": "0BYZVosg_A2K",
        "outputId": "0d0ec86c-6202-4c3a-99bd-807e8aeaa7fe"
      },
      "outputs": [
        {
          "name": "stdout",
          "output_type": "stream",
          "text": [
            "782/782 [==============================] - 5s 6ms/step - loss: 0.6339 - acc: 0.8448\n",
            "[0.6339042782783508, 0.8448399901390076]\n"
          ]
        }
      ],
      "source": [
        "result=model.evaluate(test_data,test_labels)\n",
        "print(result)"
      ]
    },
    {
      "cell_type": "code",
      "source": [
        "word_index=imdb.get_word_index()\n",
        "\n",
        "def encode_text(text):\n",
        "  tokens=keras.preprocessing.text.text_to_word_sequence(text)\n",
        "  tokens=[word_index[word] if word in word_index else 0 for word in tokens]\n",
        "  return sequence.pad_sequences([tokens],maxlen)[0]\n",
        "\n",
        "text=\"that movies just amazing,so amazing\"\n",
        "encoded=encode_text(text)\n",
        "print(encoded )"
      ],
      "metadata": {
        "colab": {
          "base_uri": "https://localhost:8080/"
        },
        "id": "On1lgflUJklh",
        "outputId": "84f35ea9-73a8-4159-82de-6c8432cefb4d"
      },
      "execution_count": null,
      "outputs": [
        {
          "output_type": "stream",
          "name": "stdout",
          "text": [
            "[  0   0   0   0   0   0   0   0   0   0   0   0   0   0   0   0   0   0\n",
            "   0   0   0   0   0   0   0   0   0   0   0   0   0   0   0   0   0   0\n",
            "   0   0   0   0   0   0   0   0   0   0   0   0   0   0   0   0   0   0\n",
            "   0   0   0   0   0   0   0   0   0   0   0   0   0   0   0   0   0   0\n",
            "   0   0   0   0   0   0   0   0   0   0   0   0   0   0   0   0   0   0\n",
            "   0   0   0   0   0   0   0   0   0   0   0   0   0   0   0   0   0   0\n",
            "   0   0   0   0   0   0   0   0   0   0   0   0   0   0   0   0   0   0\n",
            "   0   0   0   0   0   0   0   0   0   0   0   0   0   0   0   0   0   0\n",
            "   0   0   0   0   0   0   0   0   0   0   0   0   0   0   0   0   0   0\n",
            "   0   0   0   0   0   0   0   0   0   0   0   0   0   0   0   0   0   0\n",
            "   0   0   0   0   0   0   0   0   0   0   0   0   0   0   0   0   0   0\n",
            "   0   0   0   0   0   0   0   0   0   0   0   0   0   0   0   0   0   0\n",
            "   0   0   0   0   0   0   0   0   0   0   0   0   0   0   0   0   0   0\n",
            "   0   0   0   0   0   0   0   0   0   0  12  99  40 477  35 477]\n"
          ]
        }
      ]
    },
    {
      "cell_type": "code",
      "source": [
        "reverse_word_index={value:key for key,value in word_index.items()}\n",
        "print(len(reverse_word_index))\n",
        "def decode_integers(integers):\n",
        "  pad=0\n",
        "  text=''\n",
        "  for num in integers:\n",
        "    if num!=pad:\n",
        "      text+=reverse_word_index[num]+\" \"\n",
        "  return text[:-1]\n",
        "\n",
        "print(decode_integers(encoded))\n"
      ],
      "metadata": {
        "colab": {
          "base_uri": "https://localhost:8080/"
        },
        "id": "TngI4OVnKHem",
        "outputId": "4a62a656-3b71-4bc2-a58a-7eee8eab5b7c"
      },
      "execution_count": null,
      "outputs": [
        {
          "output_type": "stream",
          "name": "stdout",
          "text": [
            "88584\n",
            "that movies just amazing so amazing\n"
          ]
        }
      ]
    },
    {
      "cell_type": "code",
      "source": [
        "def predict(text):\n",
        "  encoded=encode_text(text)\n",
        "  pred=np.zeros((1,250))\n",
        "  pred[0]=encoded\n",
        "  result=model.predict(pred)\n",
        "  print(result[0])\n",
        "\n"
      ],
      "metadata": {
        "id": "wz8otjwKMTCO"
      },
      "execution_count": null,
      "outputs": []
    },
    {
      "cell_type": "code",
      "source": [
        "positive=\"That movie was so awesome! I really loved it and would watch it again because it was amazingly great.\"\n",
        "negative=\"that movie sucked.I hated it and wouldn't watch it again. was one of the worst things I've ever watched.\"\n",
        "predict(positive)\n",
        "predict(negative)\n"
      ],
      "metadata": {
        "colab": {
          "base_uri": "https://localhost:8080/"
        },
        "id": "rDPy6JZmNG9Q",
        "outputId": "2afe79ef-55db-4a82-d608-365f23a2786a"
      },
      "execution_count": null,
      "outputs": [
        {
          "output_type": "stream",
          "name": "stdout",
          "text": [
            "[0.82351816]\n",
            "[0.10684004]\n"
          ]
        }
      ]
    }
  ],
  "metadata": {
    "accelerator": "GPU",
    "colab": {
      "provenance": []
    },
    "gpuClass": "standard",
    "kernelspec": {
      "display_name": "Python 3",
      "name": "python3"
    },
    "language_info": {
      "name": "python"
    }
  },
  "nbformat": 4,
  "nbformat_minor": 0
}